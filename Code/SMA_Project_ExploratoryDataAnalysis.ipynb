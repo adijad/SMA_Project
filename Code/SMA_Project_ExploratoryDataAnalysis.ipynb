{
 "cells": [
  {
   "cell_type": "markdown",
   "id": "1bbade2b",
   "metadata": {},
   "source": [
    "# Import all the necessary libraries."
   ]
  },
  {
   "cell_type": "code",
   "execution_count": 47,
   "id": "9b932486",
   "metadata": {},
   "outputs": [],
   "source": [
    "import pandas as pd\n",
    "from wordcloud import WordCloud\n",
    "import matplotlib.pyplot as plt\n",
    "import seaborn as sns\n",
    "import warnings\n",
    "from collections import Counter\n",
    "import string\n",
    "import nltk\n",
    "from nltk.corpus import stopwords\n",
    "from nltk.tokenize import word_tokenize\n",
    "from gensim.parsing.preprocessing import preprocess_string\n",
    "from gensim import corpora\n",
    "from gensim.models import LdaModel\n",
    "import numpy as np\n",
    "import matplotlib.pyplot as plt\n",
    "from scipy.stats import percentileofscore\n",
    "from nltk import pos_tag\n",
    "from nltk.stem import PorterStemmer\n",
    "from nltk.tokenize import word_tokenize\n",
    "from nltk.classify import NaiveBayesClassifier\n",
    "from nltk.sentiment import SentimentAnalyzer\n",
    "from nltk.sentiment import SentimentIntensityAnalyzer\n",
    "from nltk.sentiment.util import *\n",
    "from sklearn.metrics import accuracy_score, precision_score, recall_score, f1_score\n",
    "from sklearn.feature_extraction.text import CountVectorizer\n",
    "from nltk.probability import FreqDist\n",
    "import random\n",
    "from sklearn.model_selection import train_test_split\n",
    "from sklearn.metrics import classification_report\n",
    "warnings.filterwarnings(\"ignore\")\n",
    "from tabulate import tabulate"
   ]
  },
  {
   "cell_type": "markdown",
   "id": "8ca75d80",
   "metadata": {},
   "source": [
    "# Summary\n",
    "\n",
    "## We have our data distributed across three distinct CSV files: one holding comprehensive show information, another housing critic reviews, and the last containing audience feedback. Our objective is to meticulously examine the data within each CSV file.\n",
    "\n",
    "## Subsequently, we'll merge the datasets into two distinct dataframes: one combining critic reviews with show details, and the other intertwining audience reviews with show specifics. These two dataframes will be pivotal for our future analysis, hence we'll export them for utilization in subsequent notebooks.\n",
    "\n",
    "\n",
    "# Let's go.!!! SUUIIIIIIIIII...."
   ]
  },
  {
   "cell_type": "markdown",
   "id": "a1487822",
   "metadata": {},
   "source": [
    "# Read the CSV file containing all the shows and Analyse the data. "
   ]
  },
  {
   "cell_type": "code",
   "execution_count": 4,
   "id": "49118a41",
   "metadata": {},
   "outputs": [
    {
     "name": "stdout",
     "output_type": "stream",
     "text": [
      "       Network              Show Critic Score Audience Score  \\\n",
      "0    Apple TV+              Loot          80%            65%   \n",
      "1    Apple TV+   For All Mankind          91%            83%   \n",
      "2    Apple TV+         Severance          97%            93%   \n",
      "3    Apple TV+     Shining Girls          83%            88%   \n",
      "4    Apple TV+            Tehran          94%            91%   \n",
      "..         ...               ...          ...            ...   \n",
      "880       VUDU          Mr. Bean         100%            92%   \n",
      "881       VUDU          Preacher          87%            75%   \n",
      "882       VUDU    House of Cards          77%            76%   \n",
      "883       VUDU          Hannibal          92%            94%   \n",
      "884       VUDU  Mare of Easttown          95%            94%   \n",
      "\n",
      "                                               tv_link  \n",
      "0               https://www.rottentomatoes.com/tv/loot  \n",
      "1    https://www.rottentomatoes.com/tv/for_all_mankind  \n",
      "2          https://www.rottentomatoes.com/tv/severance  \n",
      "3      https://www.rottentomatoes.com/tv/shining_girls  \n",
      "4             https://www.rottentomatoes.com/tv/tehran  \n",
      "..                                                 ...  \n",
      "880          https://www.rottentomatoes.com/tv/mr_bean  \n",
      "881         https://www.rottentomatoes.com/tv/preacher  \n",
      "882   https://www.rottentomatoes.com/tv/house-of-cards  \n",
      "883         https://www.rottentomatoes.com/tv/hannibal  \n",
      "884  https://www.rottentomatoes.com/tv/mare_of_east...  \n",
      "\n",
      "[885 rows x 5 columns]\n"
     ]
    }
   ],
   "source": [
    "df3_tv_shows = pd.read_csv(\"D:/Spring 2024 notes/Social Media Analytics/SMA_Project/tv_show_links.csv\")\n",
    "print(df3_tv_shows)"
   ]
  },
  {
   "cell_type": "markdown",
   "id": "d21386ce",
   "metadata": {},
   "source": [
    "## Data Exploration."
   ]
  },
  {
   "cell_type": "markdown",
   "id": "d343e81f",
   "metadata": {},
   "source": [
    "### Shape of the dataset. "
   ]
  },
  {
   "cell_type": "code",
   "execution_count": 5,
   "id": "cdaf6159",
   "metadata": {},
   "outputs": [
    {
     "data": {
      "text/plain": [
       "(885, 5)"
      ]
     },
     "execution_count": 5,
     "metadata": {},
     "output_type": "execute_result"
    }
   ],
   "source": [
    "df3_tv_shows.shape"
   ]
  },
  {
   "cell_type": "markdown",
   "id": "d45a43da",
   "metadata": {},
   "source": [
    "### Observing the unique values in the \"Network\" column."
   ]
  },
  {
   "cell_type": "code",
   "execution_count": 6,
   "id": "ac25f411",
   "metadata": {},
   "outputs": [
    {
     "name": "stdout",
     "output_type": "stream",
     "text": [
      "['Apple TV+' 'Paramount+' 'HBO MAX' 'Disney+' 'Prime Video' 'Hulu'\n",
      " 'Netflix' 'Peacock' 'VUDU']\n"
     ]
    }
   ],
   "source": [
    "unique_shows = df3_tv_shows['Network'].unique()\n",
    "print(unique_shows)"
   ]
  },
  {
   "cell_type": "markdown",
   "id": "8d0323c3",
   "metadata": {},
   "source": [
    "### Unique value counts of \"Network\" column. "
   ]
  },
  {
   "cell_type": "code",
   "execution_count": 7,
   "id": "9c329198",
   "metadata": {},
   "outputs": [
    {
     "name": "stdout",
     "output_type": "stream",
     "text": [
      "\n",
      "Value counts in 'Network':\n",
      "Paramount+     100\n",
      "HBO MAX        100\n",
      "Disney+        100\n",
      "Prime Video    100\n",
      "Hulu           100\n",
      "Netflix        100\n",
      "Peacock        100\n",
      "VUDU           100\n",
      "Apple TV+       85\n",
      "Name: Network, dtype: int64\n",
      "\n",
      "\n"
     ]
    }
   ],
   "source": [
    "categorical_columns = ['Network']\n",
    "for col in categorical_columns:\n",
    "    print(f\"\\nValue counts in '{col}':\")\n",
    "    print(df3_tv_shows[col].value_counts()) \n",
    "    print(\"\\n\")"
   ]
  },
  {
   "cell_type": "markdown",
   "id": "642b4942",
   "metadata": {},
   "source": [
    "### Column Analysis. "
   ]
  },
  {
   "cell_type": "code",
   "execution_count": 8,
   "id": "274b5747",
   "metadata": {},
   "outputs": [
    {
     "name": "stdout",
     "output_type": "stream",
     "text": [
      "\n",
      "Columns and Data Types:\n",
      "Network           object\n",
      "Show              object\n",
      "Critic Score      object\n",
      "Audience Score    object\n",
      "tv_link           object\n",
      "dtype: object\n"
     ]
    }
   ],
   "source": [
    "print(\"\\nColumns and Data Types:\")\n",
    "print(df3_tv_shows.dtypes)"
   ]
  },
  {
   "cell_type": "markdown",
   "id": "149a976e",
   "metadata": {},
   "source": [
    "### Drop unnecessary columns. Here, we can see that the link column, doesn't affect the dataset in any way. So we can drop it.  "
   ]
  },
  {
   "cell_type": "code",
   "execution_count": 9,
   "id": "de440966",
   "metadata": {},
   "outputs": [
    {
     "name": "stdout",
     "output_type": "stream",
     "text": [
      "     Network             Show Critic Score Audience Score\n",
      "0  Apple TV+             Loot          80%            65%\n",
      "1  Apple TV+  For All Mankind          91%            83%\n",
      "2  Apple TV+        Severance          97%            93%\n",
      "3  Apple TV+    Shining Girls          83%            88%\n",
      "4  Apple TV+           Tehran          94%            91%\n"
     ]
    }
   ],
   "source": [
    "df3_tv_shows = df3_tv_shows.drop(columns=['tv_link'])\n",
    "print(df3_tv_shows.head())"
   ]
  },
  {
   "cell_type": "markdown",
   "id": "ca9ca362",
   "metadata": {},
   "source": []
  },
  {
   "cell_type": "code",
   "execution_count": 10,
   "id": "3800ae2d",
   "metadata": {},
   "outputs": [
    {
     "name": "stdout",
     "output_type": "stream",
     "text": [
      "Number of shows streamed on multiple platforms: 120\n",
      "\n",
      "Shows streamed on multiple platforms:\n",
      "Show\n",
      "13 Reasons Why               3\n",
      "Adventure Time               2\n",
      "All American                 3\n",
      "Altered Carbon               3\n",
      "American Horror Story        3\n",
      "                            ..\n",
      "What We Do in the Shadows    3\n",
      "Yellowjackets                3\n",
      "Yellowstone                  3\n",
      "You                          3\n",
      "Young Sheldon                2\n",
      "Name: Network, Length: 120, dtype: int64\n"
     ]
    }
   ],
   "source": [
    "# Group the DataFrame by 'Show' and count the number of unique platforms\n",
    "platform_count = df3_tv_shows.groupby('Show')['Network'].nunique()\n",
    "\n",
    "# Filter the shows where the count of unique platforms is greater than 1\n",
    "shows_on_multiple_platforms = platform_count[platform_count > 1]\n",
    "\n",
    "# Get the number of shows on multiple platforms\n",
    "num_shows_on_multiple_platforms = len(shows_on_multiple_platforms)\n",
    "\n",
    "# Print the result\n",
    "print(\"Number of shows streamed on multiple platforms:\", num_shows_on_multiple_platforms)\n",
    "\n",
    "# Print the list of shows and the number of platforms they are streamed on\n",
    "print(\"\\nShows streamed on multiple platforms:\")\n",
    "print(shows_on_multiple_platforms)"
   ]
  },
  {
   "cell_type": "markdown",
   "id": "497db211",
   "metadata": {},
   "source": [
    "### Missing values."
   ]
  },
  {
   "cell_type": "code",
   "execution_count": 11,
   "id": "c9232446",
   "metadata": {},
   "outputs": [
    {
     "name": "stdout",
     "output_type": "stream",
     "text": [
      "\n",
      "Missing Values:\n",
      "Network           0\n",
      "Show              0\n",
      "Critic Score      0\n",
      "Audience Score    0\n",
      "dtype: int64\n"
     ]
    }
   ],
   "source": [
    "print(\"\\nMissing Values:\")\n",
    "print(df3_tv_shows.isnull().sum())"
   ]
  },
  {
   "cell_type": "markdown",
   "id": "af3f6790",
   "metadata": {},
   "source": [
    "### Summary Statistics."
   ]
  },
  {
   "cell_type": "code",
   "execution_count": 12,
   "id": "b81898cd",
   "metadata": {},
   "outputs": [
    {
     "name": "stdout",
     "output_type": "stream",
     "text": [
      "\n",
      "Summary Statistics:\n",
      "           Network     Show Critic Score Audience Score\n",
      "count          885      885          885            885\n",
      "unique           9      685           67             71\n",
      "top     Paramount+  Vikings           --             --\n",
      "freq           100        4          171             66\n"
     ]
    }
   ],
   "source": [
    "print(\"\\nSummary Statistics:\")\n",
    "print(df3_tv_shows.describe())"
   ]
  },
  {
   "cell_type": "markdown",
   "id": "ee9c9b98",
   "metadata": {},
   "source": [
    "# ----------------------------------------------------------------------------------------------------------------------------------------------------------------------------------------------------------------------------------"
   ]
  },
  {
   "cell_type": "markdown",
   "id": "01cc120d",
   "metadata": {},
   "source": [
    "# Read the CSV file containing all the critic reviews and analyse the data. "
   ]
  },
  {
   "cell_type": "code",
   "execution_count": 13,
   "id": "6edcd846",
   "metadata": {},
   "outputs": [
    {
     "name": "stdout",
     "output_type": "stream",
     "text": [
      "                   Show  Sentiment  \\\n",
      "0      Mare of Easttown          1   \n",
      "1      Mare of Easttown          1   \n",
      "2      Mare of Easttown          1   \n",
      "3      Mare of Easttown          1   \n",
      "4      Mare of Easttown          1   \n",
      "...                 ...        ...   \n",
      "14786  The Defiant Ones          1   \n",
      "14787  The Defiant Ones          1   \n",
      "14788  The Defiant Ones          1   \n",
      "14789  The Defiant Ones          1   \n",
      "14790  The Defiant Ones          1   \n",
      "\n",
      "                                                  Review  \n",
      "0      I’m not sure I have engaged in appointment vie...  \n",
      "1      Kate is marvelous; she truly is Mare. She disa...  \n",
      "2      That’s the thing I’ve loved most about Mare: t...  \n",
      "3      Boasting Kate Winslet in the title role, twist...  \n",
      "4      Performances in which madness, psychopathy or ...  \n",
      "...                                                  ...  \n",
      "14786  Hughes tries to weave in a number of larger st...  \n",
      "14787  It's the decades of struggle and successes lea...  \n",
      "14788  It's a wild, vivid, perceptive ride into a wor...  \n",
      "14789  Hughes artfully maintains a sense of awe and t...  \n",
      "14790  It's boilerplate Great American Dream-type stu...  \n",
      "\n",
      "[14791 rows x 3 columns]\n"
     ]
    }
   ],
   "source": [
    "df2_critics = pd.read_csv(\"D:/Spring 2024 notes/Social Media Analytics/SMA_Project/critic_reviews.csv\")\n",
    "print(df2_critics)"
   ]
  },
  {
   "cell_type": "markdown",
   "id": "8373db3c",
   "metadata": {},
   "source": [
    "## Data Exploration."
   ]
  },
  {
   "cell_type": "markdown",
   "id": "de1184fc",
   "metadata": {},
   "source": [
    "### Shape of the dataset. "
   ]
  },
  {
   "cell_type": "code",
   "execution_count": 14,
   "id": "7cff3223",
   "metadata": {},
   "outputs": [
    {
     "data": {
      "text/plain": [
       "(14791, 3)"
      ]
     },
     "execution_count": 14,
     "metadata": {},
     "output_type": "execute_result"
    }
   ],
   "source": [
    "df2_critics.shape"
   ]
  },
  {
   "cell_type": "markdown",
   "id": "c808f337",
   "metadata": {},
   "source": [
    "### Column Analysis"
   ]
  },
  {
   "cell_type": "code",
   "execution_count": 15,
   "id": "85b2b83c",
   "metadata": {},
   "outputs": [
    {
     "name": "stdout",
     "output_type": "stream",
     "text": [
      "\n",
      "Columns and Data Types:\n",
      "Show         object\n",
      "Sentiment     int64\n",
      "Review       object\n",
      "dtype: object\n"
     ]
    }
   ],
   "source": [
    "print(\"\\nColumns and Data Types:\")\n",
    "print(df2_critics.dtypes)"
   ]
  },
  {
   "cell_type": "markdown",
   "id": "c60e84bc",
   "metadata": {},
   "source": [
    "### Analysing the Sentiment Distribution "
   ]
  },
  {
   "cell_type": "code",
   "execution_count": 16,
   "id": "7dc06ac2",
   "metadata": {},
   "outputs": [
    {
     "name": "stdout",
     "output_type": "stream",
     "text": [
      "\n",
      "Sentiment Value Distribution:\n",
      "1    0.845447\n",
      "0    0.154553\n",
      "Name: Sentiment, dtype: float64\n"
     ]
    }
   ],
   "source": [
    "print(\"\\nSentiment Value Distribution:\")\n",
    "print(df2_critics['Sentiment'].value_counts(normalize=True))"
   ]
  },
  {
   "cell_type": "markdown",
   "id": "691a64d4",
   "metadata": {},
   "source": [
    "### Unique value and unique count in the dataset. "
   ]
  },
  {
   "cell_type": "code",
   "execution_count": 17,
   "id": "c429c993",
   "metadata": {},
   "outputs": [
    {
     "name": "stdout",
     "output_type": "stream",
     "text": [
      "['I’m not sure I have engaged in appointment viewing in years! It was nice to be giddy on a Sunday night for m’stories.'\n",
      " 'Kate is marvelous; she truly is Mare. She disappears into this role!'\n",
      " 'That’s the thing I’ve loved most about Mare: the general feeling of excitement and, dare I say, fandom...'\n",
      " ...\n",
      " \"It's a wild, vivid, perceptive ride into a world as glamorous as it is ugly.\"\n",
      " 'Hughes artfully maintains a sense of awe and tension that vibrates throughout every chapter.'\n",
      " \"It's boilerplate Great American Dream-type stuff, but it works.\"]\n"
     ]
    }
   ],
   "source": [
    "unique_critic_reviews = df2_critics['Review'].unique()\n",
    "print(unique_critic_reviews)"
   ]
  },
  {
   "cell_type": "code",
   "execution_count": 18,
   "id": "d1af85af",
   "metadata": {},
   "outputs": [
    {
     "name": "stdout",
     "output_type": "stream",
     "text": [
      "Number of unique reviews: 14789\n"
     ]
    }
   ],
   "source": [
    "unique_critic_reviews_count = df2_critics['Review'].nunique()\n",
    "print(\"Number of unique reviews:\",unique_critic_reviews_count)"
   ]
  },
  {
   "cell_type": "markdown",
   "id": "9cc23703",
   "metadata": {},
   "source": [
    "### Missing values in the dataset. "
   ]
  },
  {
   "cell_type": "code",
   "execution_count": 19,
   "id": "a4d2fb55",
   "metadata": {},
   "outputs": [
    {
     "name": "stdout",
     "output_type": "stream",
     "text": [
      "\n",
      "Missing Values:\n",
      "Show         0\n",
      "Sentiment    0\n",
      "Review       1\n",
      "dtype: int64\n"
     ]
    }
   ],
   "source": [
    "print(\"\\nMissing Values:\")\n",
    "print(df2_critics.isnull().sum())"
   ]
  },
  {
   "cell_type": "markdown",
   "id": "2b5a750f",
   "metadata": {},
   "source": [
    "# ----------------------------------------------------------------------------------------------------------------------------------------------------------------------------------------------------------------------------------"
   ]
  },
  {
   "cell_type": "markdown",
   "id": "eb15202d",
   "metadata": {},
   "source": [
    "# Merging the critic reviews with the shows. "
   ]
  },
  {
   "cell_type": "code",
   "execution_count": 20,
   "id": "2285f96a",
   "metadata": {},
   "outputs": [],
   "source": [
    "# Merge critic reviews with TV shows data based on 'Show' column\n",
    "merged_critic_df = pd.merge(df2_critics, df3_tv_shows, on='Show', how='inner')\n",
    "\n",
    "# Get unique networks\n",
    "networks_list_critic = merged_critic_df['Network'].unique()\n",
    "\n",
    "# Group by 'Show' and 'Network' and count the number of reviews for each combination\n",
    "critic_review_counts = merged_critic_df.groupby(['Show', 'Network']).size()\n",
    "\n",
    "# Reset index to make the groupby results a DataFrame\n",
    "critic_review_counts = critic_review_counts.reset_index(name='Critic Review Count')\n",
    "\n",
    "# Merge back with the merged DataFrame to add the critic review count for each show and network\n",
    "merged_critic_df = pd.merge(merged_critic_df, critic_review_counts, on=['Show', 'Network'], how='left')\n",
    "\n",
    "# Concatenate the merged DataFrame with the result DataFrame from each network\n",
    "result_critic_df = pd.concat([merged_critic_df[merged_critic_df['Network'] == network] for network in networks_list_critic])\n",
    "\n",
    "# Reset index for the final DataFrame\n",
    "result_critic_df.reset_index(drop=True, inplace=True)"
   ]
  },
  {
   "cell_type": "code",
   "execution_count": 21,
   "id": "38dbfb69",
   "metadata": {},
   "outputs": [
    {
     "name": "stdout",
     "output_type": "stream",
     "text": [
      "               Show  Sentiment  \\\n",
      "0  Mare of Easttown          1   \n",
      "1  Mare of Easttown          1   \n",
      "2  Mare of Easttown          1   \n",
      "3  Mare of Easttown          1   \n",
      "4  Mare of Easttown          1   \n",
      "\n",
      "                                              Review  Network Critic Score  \\\n",
      "0  I’m not sure I have engaged in appointment vie...  HBO MAX          95%   \n",
      "1  Kate is marvelous; she truly is Mare. She disa...  HBO MAX          95%   \n",
      "2  That’s the thing I’ve loved most about Mare: t...  HBO MAX          95%   \n",
      "3  Boasting Kate Winslet in the title role, twist...  HBO MAX          95%   \n",
      "4  Performances in which madness, psychopathy or ...  HBO MAX          95%   \n",
      "\n",
      "  Audience Score  Critic Review Count  \n",
      "0            94%                  127  \n",
      "1            94%                  127  \n",
      "2            94%                  127  \n",
      "3            94%                  127  \n",
      "4            94%                  127  \n"
     ]
    }
   ],
   "source": [
    "print(result_critic_df.head())"
   ]
  },
  {
   "cell_type": "markdown",
   "id": "ae196dd5",
   "metadata": {},
   "source": [
    "### Checking the dimensions of the newly created dataset. "
   ]
  },
  {
   "cell_type": "code",
   "execution_count": 22,
   "id": "647ae9c0",
   "metadata": {},
   "outputs": [
    {
     "name": "stdout",
     "output_type": "stream",
     "text": [
      "Dimensions of result DataFrame: (19789, 7)\n"
     ]
    }
   ],
   "source": [
    "print(\"Dimensions of result DataFrame:\", result_critic_df.shape)"
   ]
  },
  {
   "cell_type": "markdown",
   "id": "cda5a7de",
   "metadata": {},
   "source": [
    "### Check for missing values. "
   ]
  },
  {
   "cell_type": "code",
   "execution_count": 23,
   "id": "09228804",
   "metadata": {},
   "outputs": [
    {
     "name": "stdout",
     "output_type": "stream",
     "text": [
      "\n",
      "Missing values:\n",
      " Show                   0\n",
      "Sentiment              0\n",
      "Review                 1\n",
      "Network                0\n",
      "Critic Score           0\n",
      "Audience Score         0\n",
      "Critic Review Count    0\n",
      "dtype: int64\n"
     ]
    }
   ],
   "source": [
    "missing_values = result_critic_df.isnull().sum()\n",
    "print(\"\\nMissing values:\\n\", missing_values)"
   ]
  },
  {
   "cell_type": "markdown",
   "id": "35c5680c",
   "metadata": {},
   "source": [
    "### Inspecting the row with the missing values. "
   ]
  },
  {
   "cell_type": "code",
   "execution_count": 24,
   "id": "30a302a9",
   "metadata": {},
   "outputs": [
    {
     "name": "stdout",
     "output_type": "stream",
     "text": [
      "Rows with missing values:\n",
      "            Show  Sentiment Review    Network Critic Score Audience Score  \\\n",
      "6671  WeCrashed          0    NaN  Apple TV+          65%            78%   \n",
      "\n",
      "      Critic Review Count  \n",
      "6671                   46  \n"
     ]
    }
   ],
   "source": [
    "rows_with_missing_values = result_critic_df[result_critic_df.isnull().any(axis=1)]\n",
    "print(\"Rows with missing values:\\n\", rows_with_missing_values)"
   ]
  },
  {
   "cell_type": "markdown",
   "id": "9ba27bbe",
   "metadata": {},
   "source": [
    "### Dropping the missing value. "
   ]
  },
  {
   "cell_type": "code",
   "execution_count": 25,
   "id": "7656d233",
   "metadata": {},
   "outputs": [
    {
     "name": "stdout",
     "output_type": "stream",
     "text": [
      "Missing values after dropping rows:\n",
      " Show                   0\n",
      "Sentiment              0\n",
      "Review                 0\n",
      "Network                0\n",
      "Critic Score           0\n",
      "Audience Score         0\n",
      "Critic Review Count    0\n",
      "dtype: int64\n"
     ]
    }
   ],
   "source": [
    "# Drop rows with missing values\n",
    "result_critic_df.dropna(inplace=True)\n",
    "\n",
    "# Confirm that missing values have been dropped\n",
    "missing_values_after_drop = result_critic_df.isnull().sum()\n",
    "print(\"Missing values after dropping rows:\\n\", missing_values_after_drop)"
   ]
  },
  {
   "cell_type": "markdown",
   "id": "fa3735ab",
   "metadata": {},
   "source": [
    "### Inspecting random data samples."
   ]
  },
  {
   "cell_type": "code",
   "execution_count": 26,
   "id": "5e8afa33",
   "metadata": {},
   "outputs": [
    {
     "name": "stdout",
     "output_type": "stream",
     "text": [
      "\n",
      "Sample of the resulting DataFrame:\n",
      "                       Show  Sentiment  \\\n",
      "7658         Little America          1   \n",
      "8662     Star Trek: Prodigy          1   \n",
      "17299  Parks and Recreation          1   \n",
      "18670               Hawkeye          1   \n",
      "13788       Behind Her Eyes          1   \n",
      "\n",
      "                                                  Review     Network  \\\n",
      "7658   \"Little America\" is a relevant and essential s...   Apple TV+   \n",
      "8662   Might make some parents smile... My 7-year-old...  Paramount+   \n",
      "17299  It's fun. I loved it. Spending 30 minutes visi...     Peacock   \n",
      "18670  Steinfeld brings a charm and strong will to Ka...     Disney+   \n",
      "13788  \"Behind Her Eyes\" isn't about people, really. ...     Netflix   \n",
      "\n",
      "      Critic Score Audience Score  Critic Review Count  \n",
      "7658           95%            79%                   38  \n",
      "8662           93%            73%                   15  \n",
      "17299          93%            89%                   26  \n",
      "18670          92%            91%                   94  \n",
      "13788          62%            57%                   37  \n"
     ]
    }
   ],
   "source": [
    "print(\"\\nSample of the resulting DataFrame:\")\n",
    "print(result_critic_df.sample(5))"
   ]
  },
  {
   "cell_type": "markdown",
   "id": "d3a0c7c1",
   "metadata": {},
   "source": [
    "### Checking the review counts for each Network. "
   ]
  },
  {
   "cell_type": "code",
   "execution_count": 27,
   "id": "c5bb8f9c",
   "metadata": {},
   "outputs": [
    {
     "name": "stdout",
     "output_type": "stream",
     "text": [
      "\n",
      "Review counts for each show and network combination:\n",
      "Show              Network    \n",
      "11.22.63          Hulu           64\n",
      "13 Reasons Why    Netflix        12\n",
      "                  Prime Video    12\n",
      "                  VUDU           12\n",
      "1883              Paramount+     24\n",
      "                                 ..\n",
      "You're the Worst  Hulu           13\n",
      "Young Justice     HBO MAX         2\n",
      "Younger           Paramount+     14\n",
      "black-ish         Disney+         1\n",
      "iCarly            Paramount+      6\n",
      "Name: Review, Length: 669, dtype: int64\n"
     ]
    }
   ],
   "source": [
    "review_counts_check = result_critic_df.groupby(['Show', 'Network'])['Review'].count()\n",
    "print(\"\\nReview counts for each show and network combination:\")\n",
    "print(review_counts_check)"
   ]
  },
  {
   "cell_type": "markdown",
   "id": "d4212d77",
   "metadata": {},
   "source": [
    "## Export the dataframe to CSV file. "
   ]
  },
  {
   "cell_type": "code",
   "execution_count": 36,
   "id": "dfd0465f",
   "metadata": {},
   "outputs": [],
   "source": [
    "result_critic_df.to_csv('D:/Spring 2024 notes/Social Media Analytics/SMA_Project/ModifiedCritic.csv')"
   ]
  },
  {
   "cell_type": "markdown",
   "id": "d9e479c1",
   "metadata": {},
   "source": [
    "# ---------------------------------------------------------------------------------------------------------------------------------------------------------------------------------------------------------------------------------- "
   ]
  },
  {
   "cell_type": "markdown",
   "id": "e3d55837",
   "metadata": {},
   "source": [
    "# Read the CSV file containing the audience reviews and analyse the data. "
   ]
  },
  {
   "cell_type": "code",
   "execution_count": 30,
   "id": "403d6179",
   "metadata": {
    "scrolled": true
   },
   "outputs": [
    {
     "name": "stdout",
     "output_type": "stream",
     "text": [
      "       Show  Rating                                             Review\n",
      "0      Test     0.0                                        Test review\n",
      "1      Loot     2.5  I love the stars, but the show is riddled with...\n",
      "2      Loot     4.5  Great show to watch. It's something that's eas...\n",
      "3      Loot     0.5  Another Apple tanker crashes into the reef wit...\n",
      "4      Loot     4.5  This is such a fun, endearing show.  It has a ...\n",
      "...     ...     ...                                                ...\n",
      "65517  Rise     5.0                         outstanding and inspiring.\n",
      "65518  Rise     2.5  Having spent 43 years in public schools and ne...\n",
      "65519  Rise     0.5  why did they have to put rap in the show? If y...\n",
      "65520  Rise     5.0  keep it up!!! NETWORK TV!! Shows like this and...\n",
      "65521  Rise     1.5  Considering the plot, its suprisingly offensiv...\n",
      "\n",
      "[65522 rows x 3 columns]\n"
     ]
    }
   ],
   "source": [
    "df1_audience = pd.read_csv(\"D:/Spring 2024 notes/Social Media Analytics/SMA_Project/audience_reviews.csv\")\n",
    "print(df1_audience)"
   ]
  },
  {
   "cell_type": "markdown",
   "id": "45e017e4",
   "metadata": {},
   "source": [
    "## Data Exploration."
   ]
  },
  {
   "cell_type": "markdown",
   "id": "b7f824b0",
   "metadata": {},
   "source": [
    "### Shape of the dataset."
   ]
  },
  {
   "cell_type": "code",
   "execution_count": 31,
   "id": "1382cc11",
   "metadata": {},
   "outputs": [
    {
     "data": {
      "text/plain": [
       "(65522, 3)"
      ]
     },
     "execution_count": 31,
     "metadata": {},
     "output_type": "execute_result"
    }
   ],
   "source": [
    "df1_audience.shape"
   ]
  },
  {
   "cell_type": "markdown",
   "id": "6fdce3e1",
   "metadata": {},
   "source": [
    "### Column analysis. "
   ]
  },
  {
   "cell_type": "code",
   "execution_count": 32,
   "id": "acaef21b",
   "metadata": {
    "scrolled": true
   },
   "outputs": [
    {
     "name": "stdout",
     "output_type": "stream",
     "text": [
      "\n",
      "Columns and Data Types:\n",
      "Show       object\n",
      "Rating    float64\n",
      "Review     object\n",
      "dtype: object\n"
     ]
    }
   ],
   "source": [
    "print(\"\\nColumns and Data Types:\")\n",
    "print(df1_audience.dtypes)"
   ]
  },
  {
   "cell_type": "markdown",
   "id": "a752e1a1",
   "metadata": {},
   "source": [
    "### summary Statistics."
   ]
  },
  {
   "cell_type": "code",
   "execution_count": 33,
   "id": "4b16dac5",
   "metadata": {},
   "outputs": [
    {
     "name": "stdout",
     "output_type": "stream",
     "text": [
      "\n",
      "Summary Statistics for Rating:\n",
      "count    65522.000000\n",
      "mean         3.514659\n",
      "std          1.738253\n",
      "min          0.000000\n",
      "25%          2.000000\n",
      "50%          4.500000\n",
      "75%          5.000000\n",
      "max          5.000000\n",
      "Name: Rating, dtype: float64\n"
     ]
    }
   ],
   "source": [
    "print(\"\\nSummary Statistics for Rating:\")\n",
    "print(df1_audience['Rating'].describe())"
   ]
  },
  {
   "cell_type": "markdown",
   "id": "1cf9f422",
   "metadata": {},
   "source": [
    "### Checking for missing values. "
   ]
  },
  {
   "cell_type": "code",
   "execution_count": 34,
   "id": "ae201303",
   "metadata": {},
   "outputs": [
    {
     "name": "stdout",
     "output_type": "stream",
     "text": [
      "\n",
      "Missing Values:\n",
      "Show      0\n",
      "Rating    0\n",
      "Review    0\n",
      "dtype: int64\n"
     ]
    }
   ],
   "source": [
    "print(\"\\nMissing Values:\")\n",
    "print(df1_audience.isnull().sum())"
   ]
  },
  {
   "cell_type": "markdown",
   "id": "fa6360ad",
   "metadata": {},
   "source": [
    "### Plotting the rating distribution. "
   ]
  },
  {
   "cell_type": "code",
   "execution_count": 35,
   "id": "4d5520c3",
   "metadata": {},
   "outputs": [
    {
     "data": {
      "image/png": "[encoded data removed]",
      "text/plain": [
       "<Figure size 800x600 with 1 Axes>"
      ]
     },
     "metadata": {},
     "output_type": "display_data"
    }
   ],
   "source": [
    "plt.figure(figsize=(8, 6))\n",
    "sns.histplot(data=df1_audience, x='Rating', bins=20, kde=True)\n",
    "plt.title('Distribution of Ratings')\n",
    "plt.xlabel('Rating')\n",
    "plt.ylabel('Frequency')\n",
    "plt.show()"
   ]
  },
  {
   "cell_type": "markdown",
   "id": "fc68b8b0",
   "metadata": {},
   "source": [
    "# ----------------------------------------------------------------------------------------------------------------------------------------------------------------------------------------------------------------------------------"
   ]
  },
  {
   "cell_type": "markdown",
   "id": "1589ae58",
   "metadata": {},
   "source": [
    "# Merging the audience reviews with the shows."
   ]
  },
  {
   "cell_type": "code",
   "execution_count": 36,
   "id": "3f8d19a5",
   "metadata": {},
   "outputs": [],
   "source": [
    "# Merge audience reviews with TV shows data based on 'Show' column\n",
    "merged_audience_df = pd.merge(df1_audience, df3_tv_shows, on='Show', how='inner')\n",
    "\n",
    "networks_list = merged_audience_df['Network'].unique()\n",
    "\n",
    "# Group by 'Show' and 'Network' and count the number of reviews for each combination\n",
    "review_counts = merged_audience_df.groupby(['Show', 'Network']).size()\n",
    "\n",
    "# Reset index to make the groupby results a DataFrame\n",
    "review_counts = review_counts.reset_index(name='Review Count')\n",
    "\n",
    "# Merge back with the merged DataFrame to add the review count for each show and network\n",
    "merged_audience_df = pd.merge(merged_audience_df, review_counts, on=['Show', 'Network'], how='left')\n",
    "\n",
    "# Concatenate the merged DataFrame with the result DataFrame from each network\n",
    "result_audience_df = pd.concat([merged_audience_df[merged_audience_df['Network'] == network] for network in networks_list])\n",
    "\n",
    "# Reset index for the final DataFrame\n",
    "result_audience_df.reset_index(drop=True, inplace=True)"
   ]
  },
  {
   "cell_type": "code",
   "execution_count": 37,
   "id": "71b578db",
   "metadata": {},
   "outputs": [
    {
     "name": "stdout",
     "output_type": "stream",
     "text": [
      "                                 Show  Rating  \\\n",
      "0                                Loot     2.5   \n",
      "1                                Loot     4.5   \n",
      "2                                Loot     0.5   \n",
      "3                                Loot     4.5   \n",
      "4                                Loot     0.5   \n",
      "...                               ...     ...   \n",
      "93190  Once Upon a Time in Wonderland     5.0   \n",
      "93191  Once Upon a Time in Wonderland     2.5   \n",
      "93192  Once Upon a Time in Wonderland     2.0   \n",
      "93193  Once Upon a Time in Wonderland     5.0   \n",
      "93194  Once Upon a Time in Wonderland     5.0   \n",
      "\n",
      "                                                  Review    Network  \\\n",
      "0      I love the stars, but the show is riddled with...  Apple TV+   \n",
      "1      Great show to watch. It's something that's eas...  Apple TV+   \n",
      "2      Another Apple tanker crashes into the reef wit...  Apple TV+   \n",
      "3      This is such a fun, endearing show.  It has a ...  Apple TV+   \n",
      "4      Terrible show - didn't laugh once. Acting is s...  Apple TV+   \n",
      "...                                                  ...        ...   \n",
      "93190  This show is AMAZING! I'm not an OUAT watcher,...    Disney+   \n",
      "93191  Engaging premise, and Michael Socha is enterta...    Disney+   \n",
      "93192  Not terrible, but not great.   The fantasy and...    Disney+   \n",
      "93193  overall, the first six episodes are very enter...    Disney+   \n",
      "93194  I love Once Upon A Time in Wonderland, despite...    Disney+   \n",
      "\n",
      "      Critic Score Audience Score  Review Count  \n",
      "0              80%            65%            21  \n",
      "1              80%            65%            21  \n",
      "2              80%            65%            21  \n",
      "3              80%            65%            21  \n",
      "4              80%            65%            21  \n",
      "...            ...            ...           ...  \n",
      "93190          63%            66%            18  \n",
      "93191          63%            66%            18  \n",
      "93192          63%            66%            18  \n",
      "93193          63%            66%            18  \n",
      "93194          63%            66%            18  \n",
      "\n",
      "[93195 rows x 7 columns]\n"
     ]
    }
   ],
   "source": [
    "print(result_audience_df)"
   ]
  },
  {
   "cell_type": "markdown",
   "id": "43873d20",
   "metadata": {},
   "source": [
    "### Checking the unique values in the \"Network\" column. "
   ]
  },
  {
   "cell_type": "code",
   "execution_count": 38,
   "id": "c6f671ec",
   "metadata": {},
   "outputs": [
    {
     "name": "stdout",
     "output_type": "stream",
     "text": [
      "['Apple TV+' 'Paramount+' 'Prime Video' 'VUDU' 'Netflix' 'Hulu' 'Peacock'\n",
      " 'HBO MAX' 'Disney+']\n"
     ]
    }
   ],
   "source": [
    "print(result_audience_df['Network'].unique())"
   ]
  },
  {
   "cell_type": "markdown",
   "id": "831519d1",
   "metadata": {},
   "source": [
    "### Checking the dimensions of the newly created dataset."
   ]
  },
  {
   "cell_type": "code",
   "execution_count": 39,
   "id": "519822f5",
   "metadata": {},
   "outputs": [
    {
     "name": "stdout",
     "output_type": "stream",
     "text": [
      "Dimensions of result DataFrame: (93195, 7)\n"
     ]
    }
   ],
   "source": [
    "print(\"Dimensions of result DataFrame:\", result_audience_df.shape)"
   ]
  },
  {
   "cell_type": "markdown",
   "id": "dcfc7e79",
   "metadata": {},
   "source": [
    "### Check for missing values."
   ]
  },
  {
   "cell_type": "code",
   "execution_count": 40,
   "id": "f44dd2a7",
   "metadata": {},
   "outputs": [
    {
     "name": "stdout",
     "output_type": "stream",
     "text": [
      "\n",
      "Missing values:\n",
      " Show              0\n",
      "Rating            0\n",
      "Review            0\n",
      "Network           0\n",
      "Critic Score      0\n",
      "Audience Score    0\n",
      "Review Count      0\n",
      "dtype: int64\n"
     ]
    }
   ],
   "source": [
    "missing_values = result_audience_df.isnull().sum()\n",
    "print(\"\\nMissing values:\\n\", missing_values)"
   ]
  },
  {
   "cell_type": "markdown",
   "id": "2913e957",
   "metadata": {},
   "source": [
    "### Inspecting random data samples."
   ]
  },
  {
   "cell_type": "code",
   "execution_count": 41,
   "id": "abfc9bd6",
   "metadata": {},
   "outputs": [
    {
     "name": "stdout",
     "output_type": "stream",
     "text": [
      "\n",
      "Sample of the resulting DataFrame:\n",
      "                            Show  Rating  \\\n",
      "55750  Dead End: Paranormal Park     5.0   \n",
      "92608                       Glee     5.0   \n",
      "80998                Moon Knight     5.0   \n",
      "62899                 The Office     0.5   \n",
      "85185                       Loki     4.0   \n",
      "\n",
      "                                                  Review  Network  \\\n",
      "55750  Great show! It has amazing gay, autistic and t...  Netflix   \n",
      "92608                               I miss this show....  Disney+   \n",
      "80998  Moon Knight is definitely one of the best, if ...  Disney+   \n",
      "62899  So Bad,  Ricky Gervais is a cruel sadistic tro...  Peacock   \n",
      "85185  Growth is painful.  Trust is hard.  Realizing ...  Disney+   \n",
      "\n",
      "      Critic Score Audience Score  Review Count  \n",
      "55750         100%            76%            19  \n",
      "92608          70%            71%            36  \n",
      "80998          86%            91%          1164  \n",
      "62899          81%            89%           244  \n",
      "85185          92%            91%          1557  \n"
     ]
    }
   ],
   "source": [
    "print(\"\\nSample of the resulting DataFrame:\")\n",
    "print(result_audience_df.sample(5))"
   ]
  },
  {
   "cell_type": "markdown",
   "id": "83280f95",
   "metadata": {},
   "source": [
    "### Checking the review counts for each Network."
   ]
  },
  {
   "cell_type": "code",
   "execution_count": 42,
   "id": "13434a51",
   "metadata": {},
   "outputs": [
    {
     "name": "stdout",
     "output_type": "stream",
     "text": [
      "\n",
      "Review counts for each show and network combination:\n",
      "Show               Network    \n",
      "11.22.63           Hulu           160\n",
      "13 Reasons Why     Netflix        265\n",
      "                   Prime Video    265\n",
      "                   VUDU           265\n",
      "1883               Paramount+     200\n",
      "                                 ... \n",
      "You Don't Know Me  Netflix          4\n",
      "You're the Worst   Hulu             9\n",
      "Young Justice      HBO MAX         83\n",
      "Younger            Paramount+       8\n",
      "iCarly             Paramount+       6\n",
      "Name: Review, Length: 742, dtype: int64\n"
     ]
    }
   ],
   "source": [
    "review_counts_check = result_audience_df.groupby(['Show', 'Network'])['Review'].count()\n",
    "print(\"\\nReview counts for each show and network combination:\")\n",
    "print(review_counts_check)"
   ]
  },
  {
   "cell_type": "markdown",
   "id": "277d0c60",
   "metadata": {},
   "source": [
    "## Keyword analysis in Audience reviews."
   ]
  },
  {
   "cell_type": "code",
   "execution_count": 55,
   "id": "7d0b474b",
   "metadata": {},
   "outputs": [
    {
     "name": "stdout",
     "output_type": "stream",
     "text": [
      "Top 10 Keywords in High Rating Reviews:\n",
      "+------------+-------------+\n",
      "| Keyword    |   Frequency |\n",
      "+============+=============+\n",
      "| season     |       22615 |\n",
      "+------------+-------------+\n",
      "| series     |       14985 |\n",
      "+------------+-------------+\n",
      "| great      |       11968 |\n",
      "+------------+-------------+\n",
      "| best       |       10111 |\n",
      "+------------+-------------+\n",
      "| story      |        9242 |\n",
      "+------------+-------------+\n",
      "| good       |        8987 |\n",
      "+------------+-------------+\n",
      "| like       |        8496 |\n",
      "+------------+-------------+\n",
      "| characters |        8064 |\n",
      "+------------+-------------+\n",
      "| episode    |        7894 |\n",
      "+------------+-------------+\n",
      "| just       |        7852 |\n",
      "+------------+-------------+\n",
      "\n",
      "Top 10 Keywords in Low Rating Reviews:\n",
      "+------------+-------------+\n",
      "| Keyword    |   Frequency |\n",
      "+============+=============+\n",
      "| season     |       19659 |\n",
      "+------------+-------------+\n",
      "| just       |       11397 |\n",
      "+------------+-------------+\n",
      "| like       |        9481 |\n",
      "+------------+-------------+\n",
      "| characters |        7398 |\n",
      "+------------+-------------+\n",
      "| series     |        7200 |\n",
      "+------------+-------------+\n",
      "| story      |        6911 |\n",
      "+------------+-------------+\n",
      "| episode    |        6455 |\n",
      "+------------+-------------+\n",
      "| character  |        6133 |\n",
      "+------------+-------------+\n",
      "| good       |        5677 |\n",
      "+------------+-------------+\n",
      "| bad        |        5522 |\n",
      "+------------+-------------+\n"
     ]
    }
   ],
   "source": [
    "def extract_keywords(reviews, n=10):\n",
    "    vec = CountVectorizer(stop_words='english').fit(reviews)\n",
    "    bag_of_words = vec.transform(reviews)\n",
    "    sum_words = bag_of_words.sum(axis=0)\n",
    "    words_freq = [(word, sum_words[0, idx]) for word, idx in vec.vocabulary_.items()]\n",
    "    words_freq = sorted(words_freq, key=lambda x: x[1], reverse=True)\n",
    "    return words_freq[:n]\n",
    "\n",
    "high_rating_reviews = result_audience_df[result_audience_df['Rating'] >= 4]['Review']\n",
    "low_rating_reviews = result_audience_df[result_audience_df['Rating'] <= 2]['Review']\n",
    "\n",
    "high_rating_keywords = extract_keywords(high_rating_reviews)\n",
    "low_rating_keywords = extract_keywords(low_rating_reviews)\n",
    "\n",
    "print(\"Top 10 Keywords in High Rating Reviews:\")\n",
    "print(tabulate(high_rating_keywords, headers=['Keyword', 'Frequency'], tablefmt='grid'))\n",
    "print(\"\\nTop 10 Keywords in Low Rating Reviews:\")\n",
    "print(tabulate(low_rating_keywords, headers=['Keyword', 'Frequency'], tablefmt='grid'))\n"
   ]
  },
  {
   "cell_type": "markdown",
   "id": "9379e8ba",
   "metadata": {},
   "source": [
    "## Statistical Analysis on Review Length and Rating. "
   ]
  },
  {
   "cell_type": "code",
   "execution_count": 61,
   "id": "e0864495",
   "metadata": {},
   "outputs": [
    {
     "name": "stdout",
     "output_type": "stream",
     "text": [
      "\n",
      "Correlation Coefficient Table:\n",
      "+---------------+-----------------+------------+\n",
      "|               |   Review Length |     Rating |\n",
      "+===============+=================+============+\n",
      "| Review Length |       1         | -0.0938893 |\n",
      "+---------------+-----------------+------------+\n",
      "| Rating        |      -0.0938893 |  1         |\n",
      "+---------------+-----------------+------------+\n"
     ]
    }
   ],
   "source": [
    "result_audience_df['Review Length'] = result_audience_df['Review'].apply(len)\n",
    "\n",
    "# Tabulate the correlation coefficient\n",
    "print(\"\\nCorrelation Coefficient Table:\")\n",
    "print(tabulate(correlation, headers='keys', tablefmt='grid'))"
   ]
  },
  {
   "cell_type": "code",
   "execution_count": 63,
   "id": "72c9c0cb",
   "metadata": {},
   "outputs": [
    {
     "data": {
      "image/png": "[encoded data removed]",
      "text/plain": [
       "<Figure size 1000x600 with 1 Axes>"
      ]
     },
     "metadata": {},
     "output_type": "display_data"
    }
   ],
   "source": [
    "plt.figure(figsize=(10, 6))\n",
    "sns.boxplot(x='Rating', y='Review Length', data=result_audience_df)\n",
    "plt.title('Distribution of Review Length by Rating')\n",
    "plt.xlabel('Rating')\n",
    "plt.ylabel('Review Length in characters')\n",
    "plt.show()"
   ]
  },
  {
   "cell_type": "code",
   "execution_count": 66,
   "id": "58ebdd8e",
   "metadata": {},
   "outputs": [
    {
     "data": {
      "image/png": "[encoded data removed]",
      "text/plain": [
       "<Figure size 1000x600 with 1 Axes>"
      ]
     },
     "metadata": {},
     "output_type": "display_data"
    }
   ],
   "source": [
    "plt.figure(figsize=(10, 6))\n",
    "sns.scatterplot(x='Review Length', y='Rating', data=result_audience_df)\n",
    "plt.title('Correlation between Review Length and Rating')\n",
    "plt.show()\n"
   ]
  },
  {
   "cell_type": "markdown",
   "id": "6d09ad0f",
   "metadata": {},
   "source": [
    "## Export the dataframe to CSV file."
   ]
  },
  {
   "cell_type": "code",
   "execution_count": 56,
   "id": "f4e68f5d",
   "metadata": {},
   "outputs": [],
   "source": [
    "result_audience_df.to_csv('D:/Spring 2024 notes/Social Media Analytics/SMA_Project/ModifiedAudience.csv')"
   ]
  },
  {
   "cell_type": "markdown",
   "id": "19184df9",
   "metadata": {},
   "source": [
    "# ----------------------------------------------------------------------------------------------------------------------------------------------------------------------------------------------------------------------------------"
   ]
  }
 ],
 "metadata": {
  "kernelspec": {
   "display_name": "Python 3 (ipykernel)",
   "language": "python",
   "name": "python3"
  },
  "language_info": {
   "codemirror_mode": {
    "name": "ipython",
    "version": 3
   },
   "file_extension": ".py",
   "mimetype": "text/x-python",
   "name": "python",
   "nbconvert_exporter": "python",
   "pygments_lexer": "ipython3",
   "version": "3.11.4"
  }
 },
 "nbformat": 4,
 "nbformat_minor": 5
}
